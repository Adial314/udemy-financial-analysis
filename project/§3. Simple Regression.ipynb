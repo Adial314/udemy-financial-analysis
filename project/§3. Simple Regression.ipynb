{
 "cells": [
  {
   "cell_type": "markdown",
   "metadata": {},
   "source": [
    "# §3. Simple Regression\n",
    "\n",
    "Regressions quantify the relationship between dependent and independent variables. When only a single variable is considered, the regression is called a simple regression.\n",
    "\n",
    "The following notebook represents notes taken from the *Python for Finance: Investment Fundamentals & Data Analytics* Udemy course. All credit for the content of the lecture goes to 365 Cereers.\n",
    "\n",
    "## <a name=\"TOC\"></a> Table of Contents:\n",
    "---\n",
    "1. [Simple Regression Theory](#Theory)\n",
    "2. [Performing Simple Regression](#Practice)"
   ]
  },
  {
   "cell_type": "markdown",
   "metadata": {},
   "source": [
    "## <a name=\"Theory\"></a> [Simple Regression Theory](#TOC)\n",
    "---\n",
    "\n",
    "<img name=\"Frontier\" src=\"Figures\\Simple.Regression.JPG\" alt=\"Drawing\" style=\"width: 400px;\" align = \"right\"/>\n",
    "\n",
    "Simple regression assumes a linear relationship between an independent and a dependent variable. For instance, we can consider the relationship between ambient temperature and electricity usage or the size of a house and the price of said house. In each case, we know from experience that these variables are possitively correlated to each other. However, we also know that ambient temperature will not cause a local spike in electricity usage in the Sahara, where very few people live, for example. Nor will the size of a house in Ankorage have the same price as a house of the same size in New York City. We gather that some relationships exist between two variables, but not all regressions are useful.\n",
    "\n",
    "Regression, simply put, is attemping to minimize the distance between the fit line and the data points. Once the line has minimized the distances between each point to the most optimal standard, then the model is said to be fitted to the data. Consequently, the more that the data spreads, the less efficient the regression will be.\n",
    "\n",
    "When determining the reliability of a regression, we can use the R-squared value of our model. This tool is typically expressed as a percentage, where a higher percentage represents a greater predictive power from the model. Generally, an R-square of a simple regression ought to be greater than 20% to have any reliability."
   ]
  },
  {
   "cell_type": "markdown",
   "metadata": {},
   "source": [
    "## <a name=\"Practice\"></a> [Performing Simple Regression](#TOC)\n",
    "---\n",
    "\n",
    "In the following regression, we will use the statsmodels library but there are many alternative libraries for regression analysis."
   ]
  },
  {
   "cell_type": "code",
   "execution_count": 34,
   "metadata": {},
   "outputs": [
    {
     "data": {
      "text/html": [
       "<div>\n",
       "<style scoped>\n",
       "    .dataframe tbody tr th:only-of-type {\n",
       "        vertical-align: middle;\n",
       "    }\n",
       "\n",
       "    .dataframe tbody tr th {\n",
       "        vertical-align: top;\n",
       "    }\n",
       "\n",
       "    .dataframe thead th {\n",
       "        text-align: right;\n",
       "    }\n",
       "</style>\n",
       "<table border=\"1\" class=\"dataframe\">\n",
       "  <thead>\n",
       "    <tr style=\"text-align: right;\">\n",
       "      <th></th>\n",
       "      <th>House Price</th>\n",
       "      <th>House Size (sq.ft.)</th>\n",
       "      <th>State</th>\n",
       "      <th>Number of Rooms</th>\n",
       "      <th>Year of Construction</th>\n",
       "    </tr>\n",
       "  </thead>\n",
       "  <tbody>\n",
       "    <tr>\n",
       "      <th>0</th>\n",
       "      <td>1116000</td>\n",
       "      <td>1940</td>\n",
       "      <td>IN</td>\n",
       "      <td>8</td>\n",
       "      <td>2002</td>\n",
       "    </tr>\n",
       "    <tr>\n",
       "      <th>1</th>\n",
       "      <td>860000</td>\n",
       "      <td>1300</td>\n",
       "      <td>IN</td>\n",
       "      <td>5</td>\n",
       "      <td>1992</td>\n",
       "    </tr>\n",
       "    <tr>\n",
       "      <th>2</th>\n",
       "      <td>818400</td>\n",
       "      <td>1420</td>\n",
       "      <td>IN</td>\n",
       "      <td>6</td>\n",
       "      <td>1987</td>\n",
       "    </tr>\n",
       "    <tr>\n",
       "      <th>3</th>\n",
       "      <td>1000000</td>\n",
       "      <td>1680</td>\n",
       "      <td>IN</td>\n",
       "      <td>7</td>\n",
       "      <td>2000</td>\n",
       "    </tr>\n",
       "  </tbody>\n",
       "</table>\n",
       "</div>"
      ],
      "text/plain": [
       "   House Price  House Size (sq.ft.) State  Number of Rooms  \\\n",
       "0      1116000                 1940    IN                8   \n",
       "1       860000                 1300    IN                5   \n",
       "2       818400                 1420    IN                6   \n",
       "3      1000000                 1680    IN                7   \n",
       "\n",
       "   Year of Construction  \n",
       "0                  2002  \n",
       "1                  1992  \n",
       "2                  1987  \n",
       "3                  2000  "
      ]
     },
     "execution_count": 34,
     "metadata": {},
     "output_type": "execute_result"
    }
   ],
   "source": [
    "# ---------------- IMPORT LIBRARIES ---------------- #\n",
    "\n",
    "# Standard mathematics\n",
    "import numpy as np\n",
    "import pandas as pd\n",
    "\n",
    "# Access data from directory\n",
    "from pathlib import Path\n",
    "\n",
    "# Plotting tools\n",
    "import matplotlib.pyplot as plt\n",
    "%matplotlib inline\n",
    "\n",
    "# Statistical models\n",
    "from scipy import stats\n",
    "import statsmodels.api as sm\n",
    "\n",
    "# Ignore warnings\n",
    "import warnings\n",
    "warnings.filterwarnings('ignore')\n",
    "\n",
    "\n",
    "# ---------------- LOAD DATA ---------------- #\n",
    "\n",
    "# Define subdirectory\n",
    "root = Path('Data')\n",
    "\n",
    "# Import the data from subdirectory\n",
    "Data = pd.read_csv(root / 'Housing.Data.csv')\n",
    "\n",
    "# Look at first 5 instances of the data\n",
    "Data.head(4)\n"
   ]
  },
  {
   "cell_type": "code",
   "execution_count": 35,
   "metadata": {},
   "outputs": [
    {
     "data": {
      "image/png": "[encoded data removed]",
      "text/plain": [
       "<Figure size 432x288 with 1 Axes>"
      ]
     },
     "metadata": {
      "needs_background": "light"
     },
     "output_type": "display_data"
    }
   ],
   "source": [
    "# ---------------- PREPROCESSING ---------------- #\n",
    "\n",
    "# Split data into variables\n",
    "X = Data['House Size (sq.ft.)']\n",
    "Y = Data['House Price']\n",
    "\n",
    "\n",
    "# ---------------- VISUALIZE DATA ---------------- #\n",
    "\n",
    "# Plot scatter\n",
    "plt.scatter(X,Y)\n",
    "plt.axis([0, 2500, 0, 1500000])\n",
    "plt.show()\n"
   ]
  },
  {
   "cell_type": "code",
   "execution_count": 39,
   "metadata": {},
   "outputs": [
    {
     "data": {
      "text/html": [
       "<table class=\"simpletable\">\n",
       "<caption>OLS Regression Results</caption>\n",
       "<tr>\n",
       "  <th>Dep. Variable:</th>       <td>House Price</td>   <th>  R-squared:         </th> <td>   0.678</td>\n",
       "</tr>\n",
       "<tr>\n",
       "  <th>Model:</th>                   <td>OLS</td>       <th>  Adj. R-squared:    </th> <td>   0.660</td>\n",
       "</tr>\n",
       "<tr>\n",
       "  <th>Method:</th>             <td>Least Squares</td>  <th>  F-statistic:       </th> <td>   37.95</td>\n",
       "</tr>\n",
       "<tr>\n",
       "  <th>Date:</th>             <td>Thu, 21 Mar 2019</td> <th>  Prob (F-statistic):</th> <td>8.13e-06</td>\n",
       "</tr>\n",
       "<tr>\n",
       "  <th>Time:</th>                 <td>01:36:44</td>     <th>  Log-Likelihood:    </th> <td> -260.43</td>\n",
       "</tr>\n",
       "<tr>\n",
       "  <th>No. Observations:</th>      <td>    20</td>      <th>  AIC:               </th> <td>   524.9</td>\n",
       "</tr>\n",
       "<tr>\n",
       "  <th>Df Residuals:</th>          <td>    18</td>      <th>  BIC:               </th> <td>   526.8</td>\n",
       "</tr>\n",
       "<tr>\n",
       "  <th>Df Model:</th>              <td>     1</td>      <th>                     </th>     <td> </td>   \n",
       "</tr>\n",
       "<tr>\n",
       "  <th>Covariance Type:</th>      <td>nonrobust</td>    <th>                     </th>     <td> </td>   \n",
       "</tr>\n",
       "</table>\n",
       "<table class=\"simpletable\">\n",
       "<tr>\n",
       "           <td></td>              <th>coef</th>     <th>std err</th>      <th>t</th>      <th>P>|t|</th>  <th>[0.025</th>    <th>0.975]</th>  \n",
       "</tr>\n",
       "<tr>\n",
       "  <th>const</th>               <td> 2.608e+05</td> <td> 9.76e+04</td> <td>    2.673</td> <td> 0.016</td> <td> 5.58e+04</td> <td> 4.66e+05</td>\n",
       "</tr>\n",
       "<tr>\n",
       "  <th>House Size (sq.ft.)</th> <td>  401.9163</td> <td>   65.243</td> <td>    6.160</td> <td> 0.000</td> <td>  264.846</td> <td>  538.987</td>\n",
       "</tr>\n",
       "</table>\n",
       "<table class=\"simpletable\">\n",
       "<tr>\n",
       "  <th>Omnibus:</th>       <td> 1.238</td> <th>  Durbin-Watson:     </th> <td>   1.810</td>\n",
       "</tr>\n",
       "<tr>\n",
       "  <th>Prob(Omnibus):</th> <td> 0.538</td> <th>  Jarque-Bera (JB):  </th> <td>   0.715</td>\n",
       "</tr>\n",
       "<tr>\n",
       "  <th>Skew:</th>          <td>-0.459</td> <th>  Prob(JB):          </th> <td>   0.699</td>\n",
       "</tr>\n",
       "<tr>\n",
       "  <th>Kurtosis:</th>      <td> 2.884</td> <th>  Cond. No.          </th> <td>5.66e+03</td>\n",
       "</tr>\n",
       "</table><br/><br/>Warnings:<br/>[1] Standard Errors assume that the covariance matrix of the errors is correctly specified.<br/>[2] The condition number is large, 5.66e+03. This might indicate that there are<br/>strong multicollinearity or other numerical problems."
      ],
      "text/plain": [
       "<class 'statsmodels.iolib.summary.Summary'>\n",
       "\"\"\"\n",
       "                            OLS Regression Results                            \n",
       "==============================================================================\n",
       "Dep. Variable:            House Price   R-squared:                       0.678\n",
       "Model:                            OLS   Adj. R-squared:                  0.660\n",
       "Method:                 Least Squares   F-statistic:                     37.95\n",
       "Date:                Thu, 21 Mar 2019   Prob (F-statistic):           8.13e-06\n",
       "Time:                        01:36:44   Log-Likelihood:                -260.43\n",
       "No. Observations:                  20   AIC:                             524.9\n",
       "Df Residuals:                      18   BIC:                             526.8\n",
       "Df Model:                           1                                         \n",
       "Covariance Type:            nonrobust                                         \n",
       "=======================================================================================\n",
       "                          coef    std err          t      P>|t|      [0.025      0.975]\n",
       "---------------------------------------------------------------------------------------\n",
       "const                2.608e+05   9.76e+04      2.673      0.016    5.58e+04    4.66e+05\n",
       "House Size (sq.ft.)   401.9163     65.243      6.160      0.000     264.846     538.987\n",
       "==============================================================================\n",
       "Omnibus:                        1.238   Durbin-Watson:                   1.810\n",
       "Prob(Omnibus):                  0.538   Jarque-Bera (JB):                0.715\n",
       "Skew:                          -0.459   Prob(JB):                        0.699\n",
       "Kurtosis:                       2.884   Cond. No.                     5.66e+03\n",
       "==============================================================================\n",
       "\n",
       "Warnings:\n",
       "[1] Standard Errors assume that the covariance matrix of the errors is correctly specified.\n",
       "[2] The condition number is large, 5.66e+03. This might indicate that there are\n",
       "strong multicollinearity or other numerical problems.\n",
       "\"\"\""
      ]
     },
     "execution_count": 39,
     "metadata": {},
     "output_type": "execute_result"
    }
   ],
   "source": [
    "# ---------------- PERFORM REGRESSION ---------------- #\n",
    "\n",
    "# Assign independent variable\n",
    "X1 = sm.add_constant(X)\n",
    "\n",
    "# Run regression\n",
    "reg = sm.OLS(Y, X1).fit()\n",
    "\n",
    "# Analyze results\n",
    "reg.summary()\n"
   ]
  },
  {
   "cell_type": "markdown",
   "metadata": {},
   "source": [
    "From our regressional results, we can see that the model has identified house prices as our dependent variable and is using *Ordinary Least Squares* to perform the regression analysis. From our R-squared value, we can see that the independent variable of house size can explain 67.8% of the dependent variable house price. This is a strong predictive value from our data but it is by no means complete in its explanatory power.\n",
    "\n",
    "The next table gives us the numeric values for the regression line. The constant coefficient of 2.608e+05 (260,800) is the y-intercept of our regression line. Next the coefficient of House Size represents the increase in house value per square foot increase in house size, but it will vary by approximately 65 dollars. In other words, it is the slope of the regression line. Using these values, we can derive the following linear regression line:\n",
    "\n",
    "$$\n",
    "\\text{House Price} = 402 * (\\text{House Size}) + 260,800\n",
    "$$\n",
    "\n",
    "Instead of using the OLS model from the statsmodels API, we could use scipy's tools like so:"
   ]
  },
  {
   "cell_type": "code",
   "execution_count": 46,
   "metadata": {},
   "outputs": [
    {
     "name": "stdout",
     "output_type": "stream",
     "text": [
      "House Price =  402.0 * House Size +  260806.0\n",
      "Confidence:  67.8 % (R-squared)\n"
     ]
    }
   ],
   "source": [
    "# ---------------- PERFORM REGRESSION ---------------- #\n",
    "\n",
    "# Fit model and extract statistics\n",
    "slope, intercept, r_value, p_value, std_err = stats.linregress(X, Y)\n",
    "\n",
    "print(\"House Price = \", round(slope, 0), \"* House Size + \", round(intercept, 0))\n",
    "print(\"Confidence: \", round((r_value**2)*100, 1), \"% (R-squared)\")"
   ]
  },
  {
   "cell_type": "markdown",
   "metadata": {},
   "source": [
    "We can see that, using this model, we obtained the same results but the variables are more easily accessible directly from the function call.\n",
    "\n",
    "*Notes prepared by Austin Dial on 3/21/2019*"
   ]
  }
 ],
 "metadata": {
  "kernelspec": {
   "display_name": "Python 3",
   "language": "python",
   "name": "python3"
  },
  "language_info": {
   "codemirror_mode": {
    "name": "ipython",
    "version": 3
   },
   "file_extension": ".py",
   "mimetype": "text/x-python",
   "name": "python",
   "nbconvert_exporter": "python",
   "pygments_lexer": "ipython3",
   "version": "3.8.5"
  }
 },
 "nbformat": 4,
 "nbformat_minor": 4
}
