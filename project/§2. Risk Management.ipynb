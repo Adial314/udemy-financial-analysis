{
 "cells": [
  {
   "cell_type": "markdown",
   "metadata": {
    "toc-hr-collapsed": false
   },
   "source": [
    "# §2. Risk Management\n",
    "\n",
    "Using statistical analysis tools such as variance, covariance, and standard deviation, the risk of a given security can be assessed.\n",
    "\n",
    "The following notebook represents notes taken from the *Python for Finance: Investment Fundamentals & Data Analytics* Udemy course. All credit for the content of the lecture goes to 365 Cereers.\n",
    "\n",
    "## <a name=\"TOC\"></a> Table of Contents\n",
    "---\n",
    "\n",
    "1. [Standard Deviation & Risk](#STDV)\n",
    "2. [Variance for Risk](#VAR)\n",
    "3. [Covariance and Correlation for Diversification](#COVCORR)\n",
    "4. [Correlation for Arbitrage](#CORRARB)\n",
    "5. [Calculating Portfolio Risk](#PORTRISK)\n",
    "6. [Calculating Diversifiable and Un-Diversifiable Risks](#DIVUNDIV)\n",
    "  1. [Diversifiable Risk](#DIVRISK)\n",
    "  2. [Un-Diversifiable Risk](#UNDIVRISK)\n",
    "7. [Developed Functions](#FUNK)"
   ]
  },
  {
   "cell_type": "markdown",
   "metadata": {},
   "source": [
    "## <a name=\"STDV\"></a> [Standard Deviation & Risk](#TOC)\n",
    "---"
   ]
  },
  {
   "cell_type": "code",
   "execution_count": 375,
   "metadata": {},
   "outputs": [
    {
     "name": "stdout",
     "output_type": "stream",
     "text": [
      "                  PG    BEI.DE\n",
      "Date                          \n",
      "2007-01-03       NaN       NaN\n",
      "2007-01-04 -0.007621  0.006545\n",
      "2007-01-05 -0.008625 -0.020772\n",
      "2007-01-08  0.002202  0.000202\n",
      "2007-01-09 -0.002517 -0.022858\n",
      "2007-01-10  0.011901 -0.012673\n",
      "2007-01-11  0.006207  0.007498\n",
      "2007-01-12  0.005554  0.009295\n",
      "2007-01-16  0.000000  0.024572\n",
      "2007-01-17  0.010304 -0.041784\n",
      "2007-01-18  0.002750  0.011025\n",
      "2007-01-19  0.008357 -0.002071\n",
      "2007-01-22 -0.005615 -0.000829\n",
      "2007-01-23 -0.001218  0.001037\n",
      "2007-01-24 -0.001982  0.013382\n"
     ]
    }
   ],
   "source": [
    "# ---------- SETUP ENVIRONMENT ---------- #\n",
    "\n",
    "%reset -f\n",
    "\n",
    "import numpy as np\n",
    "import pandas as pd\n",
    "from pandas_datareader import data as wb\n",
    "import matplotlib.pyplot as plt\n",
    "\n",
    "\n",
    "# ---------- IMPORT DATA FROM YAHOO ---------- #\n",
    "\n",
    "# Define tickers of interest\n",
    "tickers = 'PG BEI.DE'.split()\n",
    "\n",
    "# Instantiate dataframe\n",
    "Port = pd.DataFrame()\n",
    "\n",
    "# Import data\n",
    "for t in tickers:\n",
    "    Port[t] = wb.DataReader(t, data_source = 'yahoo', start = '2007-1-1')['Adj Close']\n",
    "    \n",
    "    \n",
    "# ---------- CALCULATE RETURNS ---------- # \n",
    "\n",
    "Returns = np.log(Port / Port.shift(1))\n",
    "print(Returns[0:15])"
   ]
  },
  {
   "cell_type": "markdown",
   "metadata": {},
   "source": [
    "Let's examine the average annual returns and standard deviations of the returns of both securities."
   ]
  },
  {
   "cell_type": "code",
   "execution_count": null,
   "metadata": {},
   "outputs": [],
   "source": [
    "# ---------- STUDY PORTFOLIO STATISTICS ---------- #\n",
    "\n",
    "# PG stats\n",
    "pgSROR = round((Returns['PG'].mean() * 250 * 100), 4)\n",
    "pgSTDV = round((Returns['PG'].std() * 250 ** 0.5), 4)\n",
    "\n",
    "print('PG Statistics\\n')\n",
    "print('Average Annual Return: ', pgSROR, '%')\n",
    "print('Standard Deviation: ', pgSTDV, '\\n')\n",
    "\n",
    "# PG stats\n",
    "beiSROR = round((Returns['BEI.DE'].mean() * 250 * 100), 4)\n",
    "beiSTDV = round((Returns['BEI.DE'].std() * 250 ** 0.5), 4)\n",
    "\n",
    "print('BEI.DE Statistics\\n')\n",
    "print('Average Annual Return: ', beiSROR, '%')\n",
    "print('Standard Deviation: ', beiSTDV, '\\n')\n"
   ]
  },
  {
   "cell_type": "markdown",
   "metadata": {},
   "source": [
    "Both stocks have similar returns but the standard deviation of PG is less than that of BEI.DE, meaning that you can achieve similar returns for less risk.\n",
    "\n",
    "## <a name=\"VAR\"></a> [Variance for Risk](#TOC)\n",
    "---\n",
    "\n",
    "In statistics, variance represents how much a stock deviates from its average value. It is calculated by taking the square of the deviation from the mean. Using this measurement, we can develop an expectation of how predictable or unpredictable a security will behave in the future, based on its past performance."
   ]
  },
  {
   "cell_type": "code",
   "execution_count": 378,
   "metadata": {},
   "outputs": [
    {
     "name": "stdout",
     "output_type": "stream",
     "text": [
      "PG Statistics\n",
      "\n",
      "Variance: \t 0.0001\n",
      "Annual Variance:  0.0303 \n",
      "\n",
      "BEI.DE Statistics\n",
      "\n",
      "Variance: \t 0.0002\n",
      "Annual Variance:  0.0475 \n",
      "\n"
     ]
    }
   ],
   "source": [
    "# ---------- STUDY SECURITY STATISTICS ---------- #\n",
    "\n",
    "# PG stats\n",
    "pgVAR  = round(Returns['PG'].var(), 4)\n",
    "pgAVAR = round((Returns['PG'].var() * 250), 4)\n",
    "\n",
    "print('PG Statistics\\n')\n",
    "print('Variance: \\t', pgVAR)\n",
    "print('Annual Variance: ', pgAVAR, '\\n')\n",
    "\n",
    "# PG stats\n",
    "beiVAR  = round(Returns['BEI.DE'].var(), 4)\n",
    "beiAVAR = round((Returns['BEI.DE'].var() * 250), 4)\n",
    "\n",
    "print('BEI.DE Statistics\\n')\n",
    "print('Variance: \\t', beiVAR)\n",
    "print('Annual Variance: ', beiAVAR, '\\n')"
   ]
  },
  {
   "cell_type": "markdown",
   "metadata": {},
   "source": [
    "The variance results are concordant with our standard deviation results. The BEI.DE instrument is clearly more volatile that PG. Let's see how they relate to each other using the covariance matrix.\n",
    "\n",
    "## <a name=\"COVCORR\"></a> [Covariance and Correlation for Diversification](#TOC)\n",
    "---\n",
    "\n",
    "The covariance of two securities will yield the degree to which securities move together. We will find that the covariance between the stocks will be $0$ (no relation), $-1$ (inversely related), or $1$ (positively related). Our calculations will yield a covariance matrix like the following:\n",
    "\n",
    "| $\\text{var}(\\text{PG})$             | $\\text{cov}(\\text{PG}, \\text{BEI})$ |\n",
    "|-------------------------------------|-------------------------------------|\n",
    "| $\\text{cov}(\\text{BEI}, \\text{PG})$ | $\\text{var}(\\text{PG})$             |\n",
    "\n",
    "When using covariance, we are looking to determine which securities are related to each other and how they might respond to changing market conditions. Ergo, we can diversify a portfolio by selecting instruments which are not correlated, and thus are not likely to respond to a bear market the same way. Keep in mind, covariance tells us the direction of the relationship (positive or negative or null) whereas correlation communicates the magnitude of the relationship."
   ]
  },
  {
   "cell_type": "code",
   "execution_count": null,
   "metadata": {},
   "outputs": [],
   "source": [
    "# ---------- FIND COVARIANCE MATRIX ---------- #\n",
    "\n",
    "# Covariance\n",
    "portCOV = Returns.cov()\n",
    "portCOV"
   ]
  },
  {
   "cell_type": "code",
   "execution_count": null,
   "metadata": {},
   "outputs": [],
   "source": [
    "# Annual Covariance\n",
    "portCOV = Returns.cov() * 250\n",
    "portCOV"
   ]
  },
  {
   "cell_type": "markdown",
   "metadata": {},
   "source": [
    "These values check out but they are less useful to us, let's use these values to find the correlation between the two stocks."
   ]
  },
  {
   "cell_type": "code",
   "execution_count": null,
   "metadata": {},
   "outputs": [],
   "source": [
    "# ---------- FIND CORRELATION MATRIX ---------- #\n",
    "\n",
    "portCORR = Returns.corr()\n",
    "portCORR"
   ]
  },
  {
   "cell_type": "markdown",
   "metadata": {},
   "source": [
    "As we can see, the stocks returns are approximately 25% correlated. This means that the two securities are not likely to move together through business cycles. Naturally, the stocks are perfectly correlated with themselves. Although this is not discussed in the Udemy course, let's use these findings to explore correlation arbitrage.\n",
    "\n",
    "## <a name=\"CORRARB\"></a> [Correlation for Arbitrage](#TOC)\n",
    "---\n",
    "\n",
    "In finance, an arbitrage opportunity is one in which market inefficiency results in financial gain. For instance, when two markets are buying and selling the same good but for two different prices, one can buy a security for a lesser price and sell at the higher price to make a profit. This creates a sudden demand where the price is lower and a supply where the price is higher. At large enough volumes, these behaviors can close the gaps between the markets and end the arbitrage opportunity.\n",
    "\n",
    "In the conventional definition, arbitrage deals with almost perfectly correlated securities because the securities are one and the same. However, one can find arbitrage opportunities within the same industries. In the following example, we will look at three of the largest automotive manufacturers and find which two are the most strongly correlated. These two different equities can be treated like the same security."
   ]
  },
  {
   "cell_type": "code",
   "execution_count": 342,
   "metadata": {},
   "outputs": [
    {
     "data": {
      "text/html": [
       "<div>\n",
       "<style scoped>\n",
       "    .dataframe tbody tr th:only-of-type {\n",
       "        vertical-align: middle;\n",
       "    }\n",
       "\n",
       "    .dataframe tbody tr th {\n",
       "        vertical-align: top;\n",
       "    }\n",
       "\n",
       "    .dataframe thead th {\n",
       "        text-align: right;\n",
       "    }\n",
       "</style>\n",
       "<table border=\"1\" class=\"dataframe\">\n",
       "  <thead>\n",
       "    <tr style=\"text-align: right;\">\n",
       "      <th></th>\n",
       "      <th>FCA</th>\n",
       "      <th>F</th>\n",
       "      <th>GM</th>\n",
       "    </tr>\n",
       "  </thead>\n",
       "  <tbody>\n",
       "    <tr>\n",
       "      <th>FCA</th>\n",
       "      <td>1.000000</td>\n",
       "      <td>0.276734</td>\n",
       "      <td>0.269326</td>\n",
       "    </tr>\n",
       "    <tr>\n",
       "      <th>F</th>\n",
       "      <td>0.276734</td>\n",
       "      <td>1.000000</td>\n",
       "      <td>0.709208</td>\n",
       "    </tr>\n",
       "    <tr>\n",
       "      <th>GM</th>\n",
       "      <td>0.269326</td>\n",
       "      <td>0.709208</td>\n",
       "      <td>1.000000</td>\n",
       "    </tr>\n",
       "  </tbody>\n",
       "</table>\n",
       "</div>"
      ],
      "text/plain": [
       "          FCA         F        GM\n",
       "FCA  1.000000  0.276734  0.269326\n",
       "F    0.276734  1.000000  0.709208\n",
       "GM   0.269326  0.709208  1.000000"
      ]
     },
     "execution_count": 342,
     "metadata": {},
     "output_type": "execute_result"
    }
   ],
   "source": [
    "# ---------- IMPORT DATA FROM YAHOO ---------- #\n",
    "\n",
    "# Define tickers of interest\n",
    "autoTickers = 'FCA F GM'.split()\n",
    "\n",
    "# Instantiate dataframe\n",
    "Auto = pd.DataFrame()\n",
    "\n",
    "# Import data\n",
    "for t in autoTickers:\n",
    "    Auto[t] = wb.DataReader(t, data_source = 'yahoo', start = '2007-1-1')['Adj Close']\n",
    "    \n",
    "    \n",
    "# ---------- CALCULATE STATISTICS ---------- # \n",
    "\n",
    "# Find returns\n",
    "AutoReturns = np.log(Auto / Auto.shift(1))\n",
    "\n",
    "# Find correlation matrix\n",
    "autoCORR = AutoReturns.corr()\n",
    "autoCORR"
   ]
  },
  {
   "cell_type": "markdown",
   "metadata": {},
   "source": [
    "Unsurprisingly, General Motors (GM) and Ford Motor Company (F) are 70% correlated. This means that we could theoretically predict price movements of one company using the movements of the other. Keep in mind that, while this behavior helps the markets correlate and become more predictable, this strategy does not produce anything for other people nor directly take equity in a company of value. Use with moral caution.\n",
    "\n",
    "## <a name=\"PORTRISK\"></a> [Calculating Portfolio Risk](#TOC)\n",
    "---\n",
    "\n",
    "When creating a portfolio with several securities involved, it is important to understand how the variances of the individual instruments will affect the variance of the portfolio as a whole. Using the following algebraic relationship, we can find the variance of a portfolio with two securities:\n",
    "\n",
    "$\n",
    "(w_1 \\sigma_1 + w_2 \\sigma_2)^2 = w_1^2 \\sigma_1^2 + 2 w_1 \\sigma_1 w_2 \\sigma_2 \\rho_{12} + w_2^2 \\sigma_2^2\n",
    "$\n",
    "\n",
    "Where $w_n$ represents the weight of the $n^{\\text{th}}$ security, $\\sigma_n$ represents the standard deviation of the $n^{\\text{th}}$ security, and $\\rho_{12}$ is the correlation of the two securities.\n"
   ]
  },
  {
   "cell_type": "code",
   "execution_count": 376,
   "metadata": {},
   "outputs": [
    {
     "name": "stdout",
     "output_type": "stream",
     "text": [
      "Expected Portfolio Statistics \n",
      "\n",
      "Rate of Return:\t\t 6.0023  %\n",
      "Portfolio Variance:\t 0.0243\n",
      "Portfolio Volatility:\t 15.5911 %\n"
     ]
    }
   ],
   "source": [
    "# ---------- SETUP PORTFOLIO ---------- #\n",
    "\n",
    "# Define weights\n",
    "weights = np.array([0.5, 0.5])\n",
    "\n",
    "# Check sum\n",
    "if weights.sum() != 1: print(\"Error: Weights are imbalanced.\")\n",
    "else: pass\n",
    "\n",
    "# ---------- DETERMINE PORTFOLIO STATS ---------- #\n",
    "\n",
    "print(\"Expected Portfolio Statistics \\n\")\n",
    "\n",
    "# Expected portfolio return\n",
    "expSROR = round((np.sum(weights * Returns.mean()) * 250 * 100), 4)\n",
    "print(\"Rate of Return:\\t\\t\", expLROR, \" %\")\n",
    "\n",
    "# Expected variance\n",
    "expVAR = round((np.dot(weights.T, np.dot(Returns.cov() * 250, weights))), 4)\n",
    "print(\"Portfolio Variance:\\t\", expVAR)\n",
    "\n",
    "# Expected volatility\n",
    "expVOL = round(( np.sqrt(np.dot(weights.T, np.dot(Returns.cov() * 250, weights))) ) * 100, 4)\n",
    "print(\"Portfolio Volatility:\\t\", expVOL, '%')"
   ]
  },
  {
   "cell_type": "markdown",
   "metadata": {},
   "source": [
    "## <a name=\"DIVUNDIV\"></a> [Calculating Diversifiable and Un-Diversifiable Risks](#TOC)\n",
    "---\n",
    "\n",
    "Recall that portfolio variance is a result of the variance of individual securities and the correlations of several securities together. There are two types of investment risk: Un-Diversifiable (systematic) and Diversifiable (un-systematic) risk.\n",
    "\n",
    "Systematic risk depends on the variances of individual securities. It results from consumer spending changes, wars, forces of nature, etc. Investors cannot control for risks affecting the economy as a whole.\n",
    "\n",
    "On the other hand, un-systematic risk is the result of idiosyncracies within individual companies. For instance, some companies are mismanaged, some industries suffer recessions, but by diversifying your equity holdings over many companies and industries, you can eliminate this idiosyncratic risk. Studies show that by holding 25 or more properly diversified equities, idiosyncratic risk all but disappears.\n",
    "\n",
    "Using what we know about risk, let's disaggregate diversifiable and un-diversifiable risks in a portfolio. To do this, we find the portfolio's variance and then subtract the weighted annual variances of each stock."
   ]
  },
  {
   "cell_type": "markdown",
   "metadata": {},
   "source": [
    "### <a name=\"DIVRISK\"></a> [Diversifiable Risk](#TOC)"
   ]
  },
  {
   "cell_type": "code",
   "execution_count": 379,
   "metadata": {},
   "outputs": [
    {
     "name": "stdout",
     "output_type": "stream",
     "text": [
      "Estimated Diversifiable Risk \n",
      "\n",
      "Portfolio Variance:\t 0.0243\n",
      "Diversifiable Risk: \t 0.485 %\n"
     ]
    }
   ],
   "source": [
    "# ---------- SETUP PORTFOLIO ---------- #\n",
    "\n",
    "# Define weights\n",
    "weights = np.array([0.5, 0.5])\n",
    "\n",
    "# Check sum\n",
    "if weights.sum() != 1: print(\"Error: Weights are imbalanced.\")\n",
    "else: pass\n",
    "\n",
    "\n",
    "# ---------- DETERMINE PORTFOLIO STATS ---------- #\n",
    "\n",
    "print(\"Estimated Diversifiable Risk \\n\")\n",
    "\n",
    "# Portfolio variance\n",
    "portVAR = round((np.dot(weights.T, np.dot(Returns.cov() * 250, weights))), 4)\n",
    "print(\"Portfolio Variance:\\t\", portVAR)\n",
    "\n",
    "# Diversifiable risk\n",
    "divRisk = round((portVAR - (weights[0] ** 2 * pgAVAR) - (weights[1] ** 2 * beiAVAR)) * 100, 4)\n",
    "print(\"Diversifiable Risk: \\t\", divRisk, \"%\")"
   ]
  },
  {
   "cell_type": "markdown",
   "metadata": {
    "toc-hr-collapsed": false
   },
   "source": [
    "### <a name=\"UNDIVRISK\"></a> [Un-Diversifiable Risk](#TOC)"
   ]
  },
  {
   "cell_type": "code",
   "execution_count": 380,
   "metadata": {},
   "outputs": [
    {
     "name": "stdout",
     "output_type": "stream",
     "text": [
      "Estimated Non-Diversifiable Risk \n",
      "\n",
      "Non-Diversifiable Risk: \t 1.945 %\n"
     ]
    }
   ],
   "source": [
    "# ---------- DETERMINE PORTFOLIO STATS ---------- #\n",
    "\n",
    "print(\"Estimated Non-Diversifiable Risk \\n\")\n",
    "\n",
    "# Diversifiable risk\n",
    "ndivRisk = round(((weights[0] ** 2 * pgAVAR) + (weights[1] ** 2 * beiAVAR)) * 100, 4)\n",
    "print(\"Non-Diversifiable Risk: \\t\", ndivRisk, \"%\")"
   ]
  },
  {
   "cell_type": "markdown",
   "metadata": {},
   "source": [
    "We see that the portfolio has low estimates for both idiosyncratic and systemic risk. This concludes the content of the Udemy course but I will continue developing these tools.\n",
    "\n",
    "**AREAS FOR FURTHER DEVELOPMENT:**\n",
    "* **Investigate Larger Portfolios**\n",
    "  * Add more securities and study risk. (DONE)\n",
    "  * Create poorly diversified portfolios and identify them statistically.\n",
    "* **Porfolio Clustering**\n",
    "  * Create families of portfolios and use the dimensions of systemic and idiosyncratic risk to cluster them into groups of safety and efficiency.\n",
    "* **Develop Functions**\n",
    "  * Compile the work into functions for further development. (DONE)\n",
    "  * Try creating smaller functions as well as large analysis tools for ease of use later on. (DONE)\n",
    "\n",
    "*Notes prepared by Austin Dial on 2/26/2019*"
   ]
  },
  {
   "cell_type": "markdown",
   "metadata": {},
   "source": [
    "## <a name=\"FUNK\"></a> [Developed Functions](#TOC)\n",
    "---\n",
    "\n",
    "For future use, I have compiled these tools into small functions for ease of calling. Additionally, I have developed a larger function which will develop a risk table."
   ]
  },
  {
   "cell_type": "code",
   "execution_count": 470,
   "metadata": {},
   "outputs": [],
   "source": [
    "%reset -f\n",
    "\n",
    "import numpy as np\n",
    "import pandas as pd\n",
    "from pandas_datareader import data as wb\n",
    "import matplotlib.pyplot as plt\n",
    "from datetime import date\n",
    "\n",
    "# ------------------------- PORTFOLIO CREATER ------------------------- #\n",
    "# Creates a portfolio dataframe which includes the adjusted closing price\n",
    "#   as well as the daily return of all desired stocks. This function\n",
    "#   takes tickers as a space delimited sting as well as the start\n",
    "\n",
    "def Portfolio ( tickers, stime, *positional_parameters, **keyword_parameters):\n",
    "    \n",
    "    # Define end time if not 'today'\n",
    "    if ('etime' in keyword_parameters): etime = keyword_parameters['etime']\n",
    "    else: etime = str(date.today())\n",
    "        \n",
    "    # Reformat tickers to list\n",
    "    tickers = tickers.split()\n",
    "\n",
    "    # Instantiate dataframe\n",
    "    Port = pd.DataFrame()\n",
    "\n",
    "    # Import data\n",
    "    for t in tickers:\n",
    "        Port[t] = wb.DataReader(t, data_source = 'yahoo', start = stime, end = etime)['Adj Close']\n",
    "\n",
    "    # Append returns to frame\n",
    "    n = 0\n",
    "    for t in tickers:\n",
    "        name = t + ' Returns'\n",
    "        Port[name] = np.log(Port[t] / Port[t].shift(1))\n",
    "        n = n+1\n",
    "    \n",
    "    # Return portfolio\n",
    "    return Port\n",
    "\n",
    "\n",
    "# ------------------------- PORTFOLIO ANALYSIS ------------------------- #\n",
    "\n",
    "def PortfolioAnalysis ( Port, Dist, verb, plot ):\n",
    "\n",
    "    # INDIVIDUAL SECURITY STATS\n",
    "    \n",
    "    # Define dataframe\n",
    "    portStats  = pd.DataFrame(index = ['SROR', 'ASROR', 'STDV', 'VAR', 'AVAR'], columns = Port.columns[0:int(len(Port.columns)/2)])\n",
    "    \n",
    "    # Define the range of adj close columns\n",
    "    valids = int(len(Port.columns)/2)\n",
    "    \n",
    "    # For each security, find desired stats\n",
    "    for n in range(valids):\n",
    "        portStats.loc['SROR'][Port.columns[n]] = round((Port[Port.columns[n+(valids)]].mean()), 4)\n",
    "        portStats.loc['ASROR'][Port.columns[n]] = round((Port[Port.columns[n+(valids)]].mean() * 250), 4)\n",
    "        portStats.loc['STDV'][Port.columns[n]] = round((Port[Port.columns[n+(valids)]].std() * 250 ** 0.5), 4)\n",
    "        portStats.loc['VAR'][Port.columns[n]]  = round(Port[Port.columns[n+(valids)]].var(), 4)\n",
    "        portStats.loc['AVAR'][Port.columns[n]]  = round((Port[Port.columns[n+(valids)]].var() * 250), 4)\n",
    "    \n",
    "    # Plot normalized growth if plot is preferred\n",
    "    if plot == True:\n",
    "         # Call plotting on hypothetical normalized dataframe\n",
    "        (Port.iloc[:, 0:int(len(Pf.columns)/2)] / Port.iloc[0, 0:int(len(Pf.columns)/2)] * 100).plot(figsize = (15, 6));\n",
    "        plt.show()\n",
    "    else: pass\n",
    "    \n",
    "    # Print results if in verbose mode\n",
    "    if verb == True:\n",
    "        print(\"Individual Security Stats\\n\", portStats)\n",
    "    else: pass\n",
    "    \n",
    "    # PORTFOLIO STATS\n",
    "    \n",
    "    # Check weights sum\n",
    "    if sum(Dist) != 1:\n",
    "        print(\"Error: Weights are imbalanced.\")\n",
    "        return -1\n",
    "    else: pass\n",
    "    \n",
    "    # Check number of weights\n",
    "    if len(weights) != int(len(Pf.columns)/2):\n",
    "        print(\"Error: Incorrect number of weights.\")\n",
    "        return -1\n",
    "    else: pass\n",
    "    \n",
    "    # Create temporary return\n",
    "    Returns = Pf[Pf.columns[int(len(Pf.columns)/2) : int(len(Pf.columns))]]\n",
    "    \n",
    "    # Expected portfolio return\n",
    "    expASROR = round((np.sum(Dist * Returns.mean()) * 250), 4)\n",
    "    \n",
    "    # Expected variance\n",
    "    expVAR = round((np.dot(Dist.T, np.dot(Returns.cov() * 250, Dist))), 4)\n",
    "    \n",
    "    # Expected volatility\n",
    "    expVOL = round( ((np.dot(Dist.T, np.dot(Returns.cov() * 250, Dist))) ** 0.5), 4)\n",
    "    \n",
    "    # Print output if in verbose mode\n",
    "    if verb == True:\n",
    "        print(\"\\nPortfolio stats\")\n",
    "        print(\"Rate of Return:\\t\\t\", expASROR*100, \" %\")\n",
    "        print(\"Portfolio Variance:\\t\", expVAR)\n",
    "        print(\"Portfolio Volatility:\\t\", round(expVOL*100, 4), '%')\n",
    "    else: pass\n",
    "    \n",
    "    # Package portfolio stats as a Series\n",
    "    portExp = pd.Series([expASROR, expVAR, expVOL], index = 'ASROR VAR VOL'.split())\n",
    "    \n",
    "    # RISK ASSESSMENTS\n",
    "    \n",
    "    # Find diversifiable risk\n",
    "    temp = 0\n",
    "    for n in range(int(len(portStats.columns))):\n",
    "        temp -= (weights[n] ** 2 * portStats.loc['AVAR'][portStats.columns[n]])\n",
    "    divRisk = round((expVAR - temp), 4)\n",
    "    \n",
    "    # Find non-diversifiable risk\n",
    "    ndivRisk = 0\n",
    "    for n in range(int(len(portStats.columns))):\n",
    "        ndivRisk += (weights[n] ** 2 * portStats.loc['AVAR'][portStats.columns[n]])\n",
    "    ndivRisk = round(ndivRisk, 4)\n",
    "    \n",
    "    # Print output if in verbose mode\n",
    "    if verb == True:\n",
    "        print(\"\\nRisk Assessment\")\n",
    "        print(\"Diversifiable Risk:\\t\\t\", divRisk*100, \" %\")\n",
    "        print(\"Non-Diversifiable Risk:\\t\\t\", ndivRisk*100, \" %\")\n",
    "    else: pass\n",
    "    \n",
    "    # Package portfolio stats as a Series\n",
    "    portRisks = pd.Series([divRisk, ndivRisk], index = 'DivRisk NonDivRisk'.split())\n",
    "    \n",
    "    # Return values\n",
    "    return portStats, portExp, portRisks\n",
    "\n"
   ]
  },
  {
   "cell_type": "code",
   "execution_count": 471,
   "metadata": {},
   "outputs": [
    {
     "data": {
      "text/html": [
       "<div>\n",
       "<style scoped>\n",
       "    .dataframe tbody tr th:only-of-type {\n",
       "        vertical-align: middle;\n",
       "    }\n",
       "\n",
       "    .dataframe tbody tr th {\n",
       "        vertical-align: top;\n",
       "    }\n",
       "\n",
       "    .dataframe thead th {\n",
       "        text-align: right;\n",
       "    }\n",
       "</style>\n",
       "<table border=\"1\" class=\"dataframe\">\n",
       "  <thead>\n",
       "    <tr style=\"text-align: right;\">\n",
       "      <th></th>\n",
       "      <th>PG</th>\n",
       "      <th>BEI.DE</th>\n",
       "      <th>PG Returns</th>\n",
       "      <th>BEI.DE Returns</th>\n",
       "    </tr>\n",
       "    <tr>\n",
       "      <th>Date</th>\n",
       "      <th></th>\n",
       "      <th></th>\n",
       "      <th></th>\n",
       "      <th></th>\n",
       "    </tr>\n",
       "  </thead>\n",
       "  <tbody>\n",
       "    <tr>\n",
       "      <th>2007-01-03</th>\n",
       "      <td>44.569477</td>\n",
       "      <td>40.173252</td>\n",
       "      <td>NaN</td>\n",
       "      <td>NaN</td>\n",
       "    </tr>\n",
       "    <tr>\n",
       "      <th>2007-01-04</th>\n",
       "      <td>44.231113</td>\n",
       "      <td>40.437035</td>\n",
       "      <td>-0.007621</td>\n",
       "      <td>0.006545</td>\n",
       "    </tr>\n",
       "    <tr>\n",
       "      <th>2007-01-05</th>\n",
       "      <td>43.851280</td>\n",
       "      <td>39.605755</td>\n",
       "      <td>-0.008625</td>\n",
       "      <td>-0.020772</td>\n",
       "    </tr>\n",
       "  </tbody>\n",
       "</table>\n",
       "</div>"
      ],
      "text/plain": [
       "                   PG     BEI.DE  PG Returns  BEI.DE Returns\n",
       "Date                                                        \n",
       "2007-01-03  44.569477  40.173252         NaN             NaN\n",
       "2007-01-04  44.231113  40.437035   -0.007621        0.006545\n",
       "2007-01-05  43.851280  39.605755   -0.008625       -0.020772"
      ]
     },
     "execution_count": 471,
     "metadata": {},
     "output_type": "execute_result"
    }
   ],
   "source": [
    "Pf = Portfolio( 'PG BEI.DE', '2007-1-1')\n",
    "Pf.head(3)"
   ]
  },
  {
   "cell_type": "code",
   "execution_count": 472,
   "metadata": {},
   "outputs": [
    {
     "data": {
      "image/png": "[encoded data removed]",
      "text/plain": [
       "<Figure size 1080x432 with 1 Axes>"
      ]
     },
     "metadata": {
      "needs_background": "light"
     },
     "output_type": "display_data"
    },
    {
     "name": "stdout",
     "output_type": "stream",
     "text": [
      "Individual Security Stats\n",
      "            PG  BEI.DE\n",
      "SROR   0.0003  0.0002\n",
      "ASROR  0.0652  0.0549\n",
      "STDV    0.174   0.218\n",
      "VAR    0.0001  0.0002\n",
      "AVAR   0.0303  0.0475\n",
      "\n",
      "Portfolio stats\n",
      "Rate of Return:\t\t 6.0  %\n",
      "Portfolio Variance:\t 0.0243\n",
      "Portfolio Volatility:\t 15.59 %\n",
      "\n",
      "Risk Assessment\n",
      "Diversifiable Risk:\t\t 4.38  %\n",
      "Non-Diversifiable Risk:\t\t 1.95  %\n"
     ]
    }
   ],
   "source": [
    "weights = np.array([0.5, 0.5])\n",
    "\n",
    "SecStats, PortStats, RiskStats = PortfolioAnalysis( Pf, Dist = weights, verb = True, plot = True)"
   ]
  },
  {
   "cell_type": "markdown",
   "metadata": {},
   "source": [
    "*Notes prepared by Austin Dial on 2/28/2019, rev. 3/21*"
   ]
  }
 ],
 "metadata": {
  "kernelspec": {
   "display_name": "Python 3",
   "language": "python",
   "name": "python3"
  },
  "language_info": {
   "codemirror_mode": {
    "name": "ipython",
    "version": 3
   },
   "file_extension": ".py",
   "mimetype": "text/x-python",
   "name": "python",
   "nbconvert_exporter": "python",
   "pygments_lexer": "ipython3",
   "version": "3.8.5"
  },
  "toc-autonumbering": false,
  "toc-showcode": false,
  "toc-showtags": false
 },
 "nbformat": 4,
 "nbformat_minor": 4
}
