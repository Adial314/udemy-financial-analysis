{
 "cells": [
  {
   "cell_type": "markdown",
   "metadata": {},
   "source": [
    "# Capital Asset Pricing Model\n",
    "\n",
    "The relationship between risk and return is clear (see §4), but the specific uses for the diversifiable risk (see §2) for determining the value of a security for an investor is remains opaque. In the following section, we will explore how assets can be priced according to their expected risk/return relationship. This system of pricing is know as the Capital Asset Pricing Model (CAPM). Using our understanding of CAPM, we can build portfolios which cater to the needs of clients who are willing to accept differing levels of risk.\n",
    "\n",
    "The following notebook represents notes taken from the *Python for Finance: Investment Fundamentals & Data Analytics* Udemy course. All credit for the content of the lecture goes to 365 Cereers.\n",
    "\n",
    "## <a name=\"TOC\"></a> Table of Contents:\n",
    "---\n",
    "1. [CAPM Theory](#Theory)\n",
    "3. [Beta Theory](#Beta)\n",
    "  1. [Calculating Beta](#CalBeta)\n",
    "3. [CAPM Expected Return](#CAPMRet)\n",
    "4. [Sharpe Ratio Theory](#Sharpe)\n",
    "  1. [Finding the Sharpe Ratio](#FindSharpe)"
   ]
  },
  {
   "cell_type": "markdown",
   "metadata": {},
   "source": [
    "## <a name=\"Theory\"></a> [CAPM Theory](#TOC)\n",
    "---\n",
    "\n",
    "Under the CAPM landscape, investors are risk-averse, prefer higher returns, and are willing to buy the optimal portfolio for their needs. Realistically, investors are not always so rational, but CAPM operates under this assumption. Sharpe, the economist who invented CAPM, consideres a portfolio which represent alls possible investments throughout the global market place. Such a portfolio contains almost no idiosyncratic risk as it reflects the market perfectly. However, it assumes an asset which has a rate of return without any risk, which some investors would be willing to accept instead of placing investments market-wide. Using this risk-free rate of return, we can find that the Market portfolio investors should accept is the portfolio which represents the intersection of the efficient frontier and the capital market line, which is determined by the risk free rate of return.\n",
    "\n",
    "<img name=\"Frontier\" src=\"Figures\\CAPM.1.JPG\" alt=\"Drawing\" style=\"width: 400px;\" align = \"right\"/>\n",
    "<img name=\"Frontier\" src=\"Figures\\CAPM.1.JPG\" alt=\"Drawing\" style=\"width: 400px;\" align = \"right\"/>\n",
    "\n",
    "Using CAPM, we can find an expected return of a security that is more robust than simply using the historical patterns. We can find this CAPM expectation for a given security using the risk-free rate of return at the time of investment combined with the beta of the security distributed to the return of the market minus the risk free rate of return.\n",
    "\n",
    "$$\n",
    "r_i = r_f + \\beta_{i} (r_m - r_f)\n",
    "$$\n",
    "\n",
    "There is no such thing as a risk free asset, of course, but the closest instrument we can use is the 10-year US government bond. We can use the [US Treasury tables](https://www.treasury.gov/resource-center/data-chart-center/interest-rates/pages/textview.aspx?data=yield) to find this value. As we can see from the historical patterns of the 10-year government bond yield, the average rate of return is approximately 2.5%. The difference between the market return and the risk-ree rate of return is known as the *Equity Risk Premium* and it fluctuates between 4.5% and 5.5%. Given this range, we use 5% to approximate the Equity Risk Premium.\n",
    "\n",
    "Before we can apply this theory, however, we must first understand beta as a measurement of comparative volatility and then we can apply the CAPM formula."
   ]
  },
  {
   "cell_type": "markdown",
   "metadata": {},
   "source": [
    "## <a name=\"Beta\"></a> [Beta Theory](#TOC)\n",
    "---\n",
    "\n",
    "For securities analysis, *beta* represents the degree to which a given security fluctuates with or against a reference market. For example, when the S&P500 fluctuates, does our security of interest fluctuate to the same degree? To a lesser degree? When the S&P500 fluctuates negatively, does our security fluctuate negatively as well? What about positively?\n",
    "\n",
    "Beta is calculated using the covariance of the security and the index, divided by the variance of the market..\n",
    "\n",
    "$$\n",
    "\\beta = \\frac{\\text{cov}(r_s, r_m)}{\\sigma^{2}_{m}}\n",
    "$$\n",
    "\n",
    "The resulting beta can be classified in accordance with their risk. Some stocks will have very little relationship to the market, such as Walmart with $\\beta = 0.09$. When the market fluctuates, Walmart does not see a significant change in its business cycle because their clients will not suddenly stop buying food. Ford, on the other hand, with $\\beta = 1.10$ will be more volitile with respect to the market because consumers will adjust their spending habits by avoiding larger purchases during down markets.\n",
    "\n",
    "| No Relationship | Direct Defensive | Direct Aggressive |\n",
    "|-----------------|------------------|-------------------|\n",
    "| $\\beta = 0$     | $0 < \\beta < 1$  | $\\beta > 1$       |"
   ]
  },
  {
   "cell_type": "markdown",
   "metadata": {},
   "source": [
    "### <a name=\"CalBeta\"></a> [Calculating Beta](#TOC)\n",
    "---\n",
    "\n",
    "Now that we have basic understanding of the beta measurement, let's learn to apply calculate the beta using Python."
   ]
  },
  {
   "cell_type": "code",
   "execution_count": 15,
   "metadata": {},
   "outputs": [
    {
     "data": {
      "text/html": [
       "<div>\n",
       "<style scoped>\n",
       "    .dataframe tbody tr th:only-of-type {\n",
       "        vertical-align: middle;\n",
       "    }\n",
       "\n",
       "    .dataframe tbody tr th {\n",
       "        vertical-align: top;\n",
       "    }\n",
       "\n",
       "    .dataframe thead th {\n",
       "        text-align: right;\n",
       "    }\n",
       "</style>\n",
       "<table border=\"1\" class=\"dataframe\">\n",
       "  <thead>\n",
       "    <tr style=\"text-align: right;\">\n",
       "      <th></th>\n",
       "      <th>PG</th>\n",
       "      <th>GE</th>\n",
       "    </tr>\n",
       "    <tr>\n",
       "      <th>Date</th>\n",
       "      <th></th>\n",
       "      <th></th>\n",
       "    </tr>\n",
       "  </thead>\n",
       "  <tbody>\n",
       "    <tr>\n",
       "      <th>2019-04-09</th>\n",
       "      <td>104.66</td>\n",
       "      <td>9.22</td>\n",
       "    </tr>\n",
       "    <tr>\n",
       "      <th>2019-04-10</th>\n",
       "      <td>104.65</td>\n",
       "      <td>9.16</td>\n",
       "    </tr>\n",
       "    <tr>\n",
       "      <th>2019-04-11</th>\n",
       "      <td>104.75</td>\n",
       "      <td>9.12</td>\n",
       "    </tr>\n",
       "    <tr>\n",
       "      <th>2019-04-12</th>\n",
       "      <td>105.06</td>\n",
       "      <td>9.00</td>\n",
       "    </tr>\n",
       "    <tr>\n",
       "      <th>2019-04-15</th>\n",
       "      <td>105.73</td>\n",
       "      <td>8.98</td>\n",
       "    </tr>\n",
       "  </tbody>\n",
       "</table>\n",
       "</div>"
      ],
      "text/plain": [
       "                PG    GE\n",
       "Date                    \n",
       "2019-04-09  104.66  9.22\n",
       "2019-04-10  104.65  9.16\n",
       "2019-04-11  104.75  9.12\n",
       "2019-04-12  105.06  9.00\n",
       "2019-04-15  105.73  8.98"
      ]
     },
     "execution_count": 15,
     "metadata": {},
     "output_type": "execute_result"
    }
   ],
   "source": [
    "# -------- IMPORT LIBRARIES -------- #\n",
    "\n",
    "import numpy as np\n",
    "import pandas as pd\n",
    "import matplotlib.pyplot as plt\n",
    "%matplotlib inline\n",
    "\n",
    "# Heavily depreciated\n",
    "#from pandas_datareader import data as wb\n",
    "\n",
    "# Finance specific\n",
    "import quandl\n",
    "import datetime\n",
    "\n",
    "# Fix the Yahoo API\n",
    "import fix_yahoo_finance as yf\n",
    "yf.pdr_override()\n",
    "\n",
    "# Set Quandl Key\n",
    "quandl.ApiConfig.api_key = \"ar6m_fz_du7d7C1y_xof\"\n",
    "\n",
    "\n",
    "# -------- DOWNLOAD DATA -------- #\n",
    "\n",
    "assets = 'PG GE'.split()\n",
    "start = datetime.datetime(2007,1,1)\n",
    "end = datetime.date.today()\n",
    "\n",
    "Data = pd.DataFrame()\n",
    "\n",
    "for a in assets:\n",
    "    code = \"EOD/{}\".format(a)\n",
    "    Data[a] = quandl.get( code, start_date = start, end_date = end )['Adj_Close']\n",
    "    \n",
    "# View head of data\n",
    "Data.tail(5)"
   ]
  },
  {
   "cell_type": "code",
   "execution_count": 2,
   "metadata": {},
   "outputs": [
    {
     "name": "stdout",
     "output_type": "stream",
     "text": [
      "Average Annualized Return: \n",
      " PG       0.077370\n",
      "^GSPC    0.111653\n",
      "dtype: float64\n",
      "\n",
      "Covariance: \n",
      "              PG     ^GSPC\n",
      "PG     0.020409  0.010078\n",
      "^GSPC  0.010078  0.016362\n",
      "\n",
      "Correlation: \n",
      "              PG     ^GSPC\n",
      "PG     1.000000  0.551507\n",
      "^GSPC  0.551507  1.000000\n"
     ]
    }
   ],
   "source": [
    "# ---------- STUDY RELATIONSHIPS ---------- #\n",
    "\n",
    "# Find LROR for each asset\n",
    "LROR  = np.log(Data / Data.shift(1))\n",
    "ALROR = LROR.mean() * 250\n",
    "\n",
    "# Find security covariance with market\n",
    "cov  = LROR.cov() * 250\n",
    "MCov = cov.iloc[0, 1]\n",
    "\n",
    "# Find market variance\n",
    "MVar = LROR['^GSPC'].var() * 250\n",
    "\n",
    "# Study mean, covariance, and correlation\n",
    "print(\"Average Annualized Return: \\n\", ALROR)\n",
    "print(\"\\nCovariance: \\n\", cov)\n",
    "print(\"\\nCorrelation: \\n\", LROR.corr())"
   ]
  },
  {
   "cell_type": "markdown",
   "metadata": {},
   "source": [
    "We can see that P&G gives us a rate of return of 7.7% and the S&P500 yields 11.2% for the period of study. Additionally, we can see that the correlation between our security and the market is strong at 55%. Using the metrics we calculated, we can find and study the beta."
   ]
  },
  {
   "cell_type": "code",
   "execution_count": 3,
   "metadata": {},
   "outputs": [
    {
     "name": "stdout",
     "output_type": "stream",
     "text": [
      "P&G Beta:  0.616\n"
     ]
    }
   ],
   "source": [
    "PG_beta = MCov / MVar\n",
    "\n",
    "print(\"P&G Beta: \", round(PG_beta, 3))"
   ]
  },
  {
   "cell_type": "markdown",
   "metadata": {},
   "source": [
    "Using what we learned in beta theory section, we can see that P&G is defensive against market volatility because its beta is less than 1. Consequently, when the market soars our stock will increase but will not soar with the market, and then the market crashes our stocks value will depreciate but will show resistance to market trends."
   ]
  },
  {
   "cell_type": "markdown",
   "metadata": {},
   "source": [
    "## <a name=\"CAPMRet\"></a> [CAPM Expected Return](#TOC)\n",
    "---\n",
    "\n",
    "Using the CAPM expected return formula, let's use Python to find a more robust expected return for our security."
   ]
  },
  {
   "cell_type": "code",
   "execution_count": 4,
   "metadata": {},
   "outputs": [
    {
     "data": {
      "text/plain": [
       "1.9600000381469727"
      ]
     },
     "execution_count": 4,
     "metadata": {},
     "output_type": "execute_result"
    }
   ],
   "source": [
    "# -------- DOWNLOAD DATA -------- #\n",
    "\n",
    "assets = '^TNX'.split()\n",
    "\n",
    "# Instantiate dataframe\n",
    "TNX = pd.DataFrame()\n",
    "\n",
    "# Aquire data\n",
    "for a in assets:\n",
    "    TNX[a] = wb.DataReader(a, data_source = \"yahoo\", start = dstart, end = dend)['Adj Close']\n",
    "\n",
    "# Isolate start yield\n",
    "risk_free = float(TNX.iloc[0])\n",
    "risk_free"
   ]
  },
  {
   "cell_type": "code",
   "execution_count": 5,
   "metadata": {},
   "outputs": [
    {
     "name": "stdout",
     "output_type": "stream",
     "text": [
      "P&G ROR:  5.0398 %\n"
     ]
    }
   ],
   "source": [
    "# Find CAPM expected return\n",
    "PG_CAPM = (risk_free/100) + PG_beta * (0.05)\n",
    "print(\"P&G ROR: \", round(PG_CAPM * 100, 4), \"%\")"
   ]
  },
  {
   "cell_type": "markdown",
   "metadata": {},
   "source": [
    "So the CAPM considers that P&G should earn approximately 5% returns given its risk."
   ]
  },
  {
   "cell_type": "markdown",
   "metadata": {},
   "source": [
    "## <a name=\"Sharpe\"></a> [Sharpe Ratio Theory](#TOC)\n",
    "---\n",
    "\n",
    "What we are working towards, in this section, is the idea that investors need to consider how risk ought to affect their outlook for a given security. The Sharpe ratio allows us to consider securities by their risk adjusted returns. In other words, it allows us to consider how much return we should expected for a given risk. We can find this ratio using the quantity difference between the return of an instrument and the risk-free rate of return divided by the standard deviation of the instrument.\n",
    "\n",
    "$$\n",
    "\\frac{r_i - r_f}{\\sigma_i}\n",
    "$$\n",
    "\n",
    "This ratio reflects the excess return of a security from the risk-free asset with respect to the risk of the security itself. The Sharpe ratio moves positively with the expected return of the stock and moves negatively with the volatility of that stock. Consequently, we can compare stocks and portfolios against each other on a risk adjusted basis."
   ]
  },
  {
   "cell_type": "markdown",
   "metadata": {},
   "source": [
    "### <a name=\"FindSharpe\"></a> [Finding the Sharpe Ratio](#TOC)\n",
    "---\n",
    "\n",
    "Using the formula for the Sharpe ratio, we can easily use the statistics we found in the earlier python sections to find our numbers."
   ]
  },
  {
   "cell_type": "code",
   "execution_count": 6,
   "metadata": {},
   "outputs": [
    {
     "name": "stdout",
     "output_type": "stream",
     "text": [
      "P&G Sharpe:  21.558 %\n"
     ]
    }
   ],
   "source": [
    "# Find Sharpe ratio\n",
    "PG_sharpe = (PG_CAPM - (risk_free/100)) / (LROR['PG'].std() * 250 ** 0.5)\n",
    "print(\"P&G Sharpe: \", round(PG_sharpe * 100, 4), \"%\")"
   ]
  },
  {
   "cell_type": "markdown",
   "metadata": {},
   "source": [
    "Now that we have found our Sharpe ratio for P&G, we can compare this number with other investments to determine which instrument offers the best return for the risk assumed by investors."
   ]
  },
  {
   "cell_type": "markdown",
   "metadata": {},
   "source": [
    "*Notes prepared by Austin Dial on 3/20/2019*"
   ]
  }
 ],
 "metadata": {
  "kernelspec": {
   "display_name": "Python 3",
   "language": "python",
   "name": "python3"
  },
  "language_info": {
   "codemirror_mode": {
    "name": "ipython",
    "version": 3
   },
   "file_extension": ".py",
   "mimetype": "text/x-python",
   "name": "python",
   "nbconvert_exporter": "python",
   "pygments_lexer": "ipython3",
   "version": "3.8.5"
  }
 },
 "nbformat": 4,
 "nbformat_minor": 4
}
