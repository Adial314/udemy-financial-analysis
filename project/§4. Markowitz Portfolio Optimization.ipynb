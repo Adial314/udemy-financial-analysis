{
 "cells": [
  {
   "cell_type": "markdown",
   "metadata": {
    "toc-hr-collapsed": false
   },
   "source": [
    "# Markowitz Portfolio Optimization\n",
    "\n",
    "Markowitz, a 20th century economist, published a paper in 1952 that detailed how to develop a portfolio that maximized return for the lowest possible risk.\n",
    "\n",
    "The following notebook represents notes taken from the *Python for Finance: Investment Fundamentals & Data Analytics* Udemy course. All credit for the content of the lecture goes to 365 Cereers.\n",
    "\n",
    "## Table of Contents:\n",
    "---\n",
    "1. [Markowitz Efficient Portfolio Theory](#Theory)\n",
    "2. [Obtaining Efficient Portfolios](#Application)"
   ]
  },
  {
   "cell_type": "markdown",
   "metadata": {},
   "source": [
    "## <a name=\"Theory\"></a> Markowitz Efficient Portfolio Theory\n",
    "---\n",
    "\n",
    "In particular, Markowitz is interested in eliminating *idiosyncratic risk*, which is the risk caused by the peculiarities of single invesments caused by such factors as the competence of their executives or the management of their supply chain. By diversifying your portfolio, you can control for these idiosyncracies.\n",
    "\n",
    "Diversified portfolios will generate higher returns without taking on excessive risk. This can be achieved by starting with a series of invesments with very little correlation to each other. When a particular industry is affected, the security on that industry will be affected, but the securities in unrelated industries will remain strong and the portfolio will absorb the blow.\n",
    "\n",
    "Markowitz proved that there are efficient portfolios which can be found and optimized for. He related the return of a series of securities to their standard deviations, a measure of their volatility, and found that there exists an efficient frontier of portfolios which can generate the best returns for their risk tolerance. Provided that you are on the frontier, you are at maximum efficiency. To be farther away from the frontier is to take on lower returns for your risk level.\n",
    "\n",
    "<img name=\"Frontier\" src=\"Figures\\Markowitz.Frontier.JPG\" alt=\"Drawing\" style=\"width: 400px;\" align = \"right\"/>\n",
    "\n",
    "Looking at the figure to the right, the upper edge of the plane represents the efficient frontier. As we move to the right, we take on more volatility but we get greater returns, provided that we are using one of the efficient portfolios.\n",
    "\n",
    "Let's grab some data and take a look at our own efficient frontier. Consider the following security data:\n",
    "\n",
    "|  -                 | Security A | Security B |\n",
    "|--------------------|------------|------------|\n",
    "| Expected Return    | 7  %       | 9 %        |\n",
    "| Standard Deviation | 5  %       | 8 %        |\n",
    "\n",
    "The correlation between A and B is 30% (0.30) which is close enough to zero for our purposes. Next consider that we create different portfolios using varying weights between the two securities. We can find the expected returns of the hypothetical portfolio using the vector sum of the expected return and their weights.\n",
    "\n",
    "We can find the standard deviation of the portfolio using the following equation:\n",
    "\n",
    "$\n",
    "( w_1 \\sigma_1 + w_2 \\sigma_2 )^{2} = w_1^2 \\sigma_1^2 + 2 w_1 \\sigma_1 w_2 \\sigma_2 \\rho_{12} + w_2^2 \\sigma_2^2\n",
    "$\n",
    "\n",
    "Here $\\sigma_n$ represents the standard deviation of security $n$, $w_n$ equals the weight of security $n$ within the portfolio, and $\\rho_{12}$ equals the correlation between securities one and two. Charting our data we are left with the following:\n",
    "\n",
    "| -            | Weight A | Weight B | Expected Return | Standard Deviation |\n",
    "|--------------|----------|----------|-----------------|--------------------|\n",
    "| Portfolio 0  | 100  %   | 0   %    | 7.00 %          | 0.05               |\n",
    "| Portfolio 1  | 90   %   | 10  %    | 7.20 %          | 0.048010416        |\n",
    "| Portfolio 2  | 80   %   | 20  %    | 7.40 %          | 0.047328638        |\n",
    "| Portfolio 3  | 70   %   | 30  %    | 7.60 %          | 0.048010416        |\n",
    "| Portfolio 4  | 60   %   | 40  %    | 7.80 %          | 0.05               |\n",
    "| Portfolio 5  | 50   %   | 50  %    | 8.00 %          | 0.053150729        |\n",
    "| Portfolio 6  | 40   %   | 60  %    | 8.20 %          | 0.057271284        |\n",
    "| Portfolio 7  | 30   %   | 70  %    | 8.40 %          | 0.062169124        |\n",
    "| Portfolio 8  | 20   %   | 80  %    | 8.60 %          | 0.067675697        |\n",
    "| Portfolio 9  | 10   %   | 90  %    | 8.80 %          | 0.073654599        |\n",
    "| Portfolio 10 | 0    %   | 100 %    | 9.00 %          | 0.08               |\n",
    "\n",
    "By plotting the expected return over the standard deviation we achieve a graph of our Markowitz Frontier.\n",
    "\n",
    "<img name=\"CustomFrontier\" src=\"Figures\\Custom.Frontier.JPG\" alt=\"Drawing\" style=\"width: 400px;\"/>\n",
    "\n",
    "This is how we arrive at a frontier, by changing the weights until we have found the right combination. As the number of assets increases, so too does the complexity of this calculation and the permutations become more arduous to compute."
   ]
  },
  {
   "cell_type": "markdown",
   "metadata": {
    "toc-hr-collapsed": false
   },
   "source": [
    "## <a name=\"Application\"></a> Obtaining Efficient Portfolios\n",
    "---\n",
    "\n",
    "Here we will consider a portfolio with only two assets involed: Proctor & Gamble and the S&P500"
   ]
  },
  {
   "cell_type": "code",
   "execution_count": 1,
   "metadata": {},
   "outputs": [
    {
     "data": {
      "text/html": [
       "<div>\n",
       "<style scoped>\n",
       "    .dataframe tbody tr th:only-of-type {\n",
       "        vertical-align: middle;\n",
       "    }\n",
       "\n",
       "    .dataframe tbody tr th {\n",
       "        vertical-align: top;\n",
       "    }\n",
       "\n",
       "    .dataframe thead th {\n",
       "        text-align: right;\n",
       "    }\n",
       "</style>\n",
       "<table border=\"1\" class=\"dataframe\">\n",
       "  <thead>\n",
       "    <tr style=\"text-align: right;\">\n",
       "      <th></th>\n",
       "      <th>PG</th>\n",
       "      <th>^GSPC</th>\n",
       "    </tr>\n",
       "    <tr>\n",
       "      <th>Date</th>\n",
       "      <th></th>\n",
       "      <th></th>\n",
       "    </tr>\n",
       "  </thead>\n",
       "  <tbody>\n",
       "    <tr>\n",
       "      <th>2019-04-09</th>\n",
       "      <td>104.660004</td>\n",
       "      <td>2878.199951</td>\n",
       "    </tr>\n",
       "    <tr>\n",
       "      <th>2019-04-10</th>\n",
       "      <td>104.650002</td>\n",
       "      <td>2888.209961</td>\n",
       "    </tr>\n",
       "    <tr>\n",
       "      <th>2019-04-11</th>\n",
       "      <td>104.750000</td>\n",
       "      <td>2888.320068</td>\n",
       "    </tr>\n",
       "    <tr>\n",
       "      <th>2019-04-12</th>\n",
       "      <td>105.059998</td>\n",
       "      <td>2907.409912</td>\n",
       "    </tr>\n",
       "    <tr>\n",
       "      <th>2019-04-15</th>\n",
       "      <td>105.520103</td>\n",
       "      <td>2903.639893</td>\n",
       "    </tr>\n",
       "  </tbody>\n",
       "</table>\n",
       "</div>"
      ],
      "text/plain": [
       "                    PG        ^GSPC\n",
       "Date                               \n",
       "2019-04-09  104.660004  2878.199951\n",
       "2019-04-10  104.650002  2888.209961\n",
       "2019-04-11  104.750000  2888.320068\n",
       "2019-04-12  105.059998  2907.409912\n",
       "2019-04-15  105.520103  2903.639893"
      ]
     },
     "execution_count": 1,
     "metadata": {},
     "output_type": "execute_result"
    }
   ],
   "source": [
    "# -------- IMPORT LIBRARIES -------- #\n",
    "import numpy as np\n",
    "import pandas as pd\n",
    "from pandas_datareader import data as wb\n",
    "import matplotlib.pyplot as plt\n",
    "%matplotlib inline\n",
    "\n",
    "# -------- DOWNLOAD DATA -------- #\n",
    "assets = 'PG ^GSPC'.split()\n",
    "Portfolio = pd.DataFrame()\n",
    "\n",
    "for a in assets:\n",
    "    Portfolio[a] = wb.DataReader(a, data_source = \"yahoo\", start = '2010-1-1')['Adj Close']\n",
    "    \n",
    "Portfolio.tail(5)"
   ]
  },
  {
   "cell_type": "code",
   "execution_count": 3,
   "metadata": {},
   "outputs": [
    {
     "data": {
      "text/plain": [
       "<matplotlib.axes._subplots.AxesSubplot at 0x1aca6b138d0>"
      ]
     },
     "execution_count": 3,
     "metadata": {},
     "output_type": "execute_result"
    },
    {
     "data": {
      "image/png": "[encoded data removed]",
      "text/plain": [
       "<Figure size 720x360 with 1 Axes>"
      ]
     },
     "metadata": {
      "needs_background": "light"
     },
     "output_type": "display_data"
    }
   ],
   "source": [
    "# Normalize and visualize\n",
    "(Portfolio / Portfolio.iloc[0] * 100).plot(figsize = (10, 5))"
   ]
  },
  {
   "cell_type": "code",
   "execution_count": 5,
   "metadata": {},
   "outputs": [
    {
     "name": "stdout",
     "output_type": "stream",
     "text": [
      "Average Annualized Return: \n",
      " PG       8.509871\n",
      "^GSPC    9.819229\n",
      "dtype: float64\n",
      "\n",
      "Covariance: \n",
      "              PG     ^GSPC\n",
      "PG     0.000085  0.000047\n",
      "^GSPC  0.000047  0.000090\n",
      "\n",
      "Correlation: \n",
      "              PG     ^GSPC\n",
      "PG     1.000000  0.532309\n",
      "^GSPC  0.532309  1.000000\n"
     ]
    }
   ],
   "source": [
    "# ---------- STUDY RELATIONSHIPS ---------- #\n",
    "\n",
    "# Find LROR for each asset\n",
    "LROR = np.log(Portfolio / Portfolio.shift(1))\n",
    "\n",
    "# Study mean, covariance, and correlation\n",
    "print(\"Average Annualized Return: \\n\", LROR.mean()*250*100)\n",
    "print(\"\\nCovariance: \\n\", LROR.cov())\n",
    "print(\"\\nCorrelation: \\n\", LROR.corr())"
   ]
  },
  {
   "cell_type": "markdown",
   "metadata": {},
   "source": [
    "We can see that both assets demonstrated strong returns over the timespan we are studying. Additionally, the returns are well correlated with a value of 57%. This is what we are looking for."
   ]
  },
  {
   "cell_type": "code",
   "execution_count": 12,
   "metadata": {},
   "outputs": [
    {
     "name": "stdout",
     "output_type": "stream",
     "text": [
      "Weights:  [0.88077203 0.11922797]\n",
      "Sum: \t 1.0\n"
     ]
    }
   ],
   "source": [
    "# ---------- FIND WEIGHTS ---------- #\n",
    "\n",
    "# Get weights\n",
    "weights = np.random.random(len(assets))\n",
    "weights /= np.sum(weights)\n",
    "print(\"Weights: \", weights)\n",
    "\n",
    "# Check sum\n",
    "if weights.sum() != 1: print(\"Error: Weights are imbalanced.\")\n",
    "else: pass"
   ]
  },
  {
   "cell_type": "code",
   "execution_count": 26,
   "metadata": {},
   "outputs": [
    {
     "name": "stdout",
     "output_type": "stream",
     "text": [
      "Expected Portfolio Statistics \n",
      "\n",
      "\n",
      "Rate of Return:\t\t 8.666  %\n",
      "Port Variance:\t\t 0.0193  %\n",
      "Port Volatility:\t 0.1389  %\n"
     ]
    }
   ],
   "source": [
    "# ---------- DETERMINE PORTFOLIO STATS ---------- #\n",
    "\n",
    "print(\"Expected Portfolio Statistics \\n\\n\")\n",
    "\n",
    "# Expected portfolio return\n",
    "expLROR = round((np.sum(weights * LROR.mean()) * 250 * 100), 4)\n",
    "print(\"Rate of Return:\\t\\t\", expLROR, \" %\")\n",
    "\n",
    "# Expected variance\n",
    "expVAR = round((np.dot(weights.T, np.dot(LROR.cov() * 250, weights))), 4)\n",
    "print(\"Port Variance:\\t\\t\", expVAR, \" %\")\n",
    "\n",
    "# Expected volatility\n",
    "expVOL = round(( np.sqrt(np.dot(weights.T, np.dot(LROR.cov() * 250, weights))) ), 4)\n",
    "print(\"Port Volatility:\\t\", expVOL, \" %\")\n"
   ]
  },
  {
   "cell_type": "markdown",
   "metadata": {},
   "source": [
    "Now that we have some measurements of the porfolio, we will proceed with creating a plot with over 1000 portfolio combinations of the same two securities with differing weights. Keep in mind that there are only two securities but thousands of weight combinations, not the other way around."
   ]
  },
  {
   "cell_type": "code",
   "execution_count": 37,
   "metadata": {},
   "outputs": [
    {
     "name": "stdout",
     "output_type": "stream",
     "text": [
      "Portfolio Returns: \t [0.09391151 0.09087033 0.09055281 0.09119817] ...\n",
      "Portfolio Volatilities:  [0.1324771  0.12945365 0.12962574 0.12937334] ...\n"
     ]
    }
   ],
   "source": [
    "# ---------- DEVELOP MARKOWITZ FRONTIER ---------- #\n",
    "\n",
    "# Preallocate lists for returns to volatilities\n",
    "portRET = []\n",
    "portVOL = []\n",
    "\n",
    "# Define simulation settings\n",
    "n = 1000 # Total combinations considered\n",
    "\n",
    "# Run the simulation\n",
    "for x in range(n):\n",
    "    \n",
    "    # Randomly assign weights\n",
    "    weights = np.random.random(len(assets))\n",
    "    weights /= np.sum(weights)\n",
    "    \n",
    "    # Find portfolio return\n",
    "    portRET.append(np.sum(weights * LROR.mean()) * 250)\n",
    "    \n",
    "    # Find portfolio volatility\n",
    "    portVOL.append(np.sqrt(np.dot(weights.T, np.dot(LROR.cov() * 250, weights))))\n",
    "    \n",
    "# Convert data to arrays\n",
    "portRET = np.array(portRET)\n",
    "portVOL = np.array(portVOL)\n",
    "\n",
    "# Print sample outputs\n",
    "print(\"Portfolio Returns: \\t\", portRET[0:4], \"...\")\n",
    "print(\"Portfolio Volatilities: \", portVOL[0:4], \"...\")\n"
   ]
  },
  {
   "cell_type": "code",
   "execution_count": 36,
   "metadata": {},
   "outputs": [
    {
     "data": {
      "image/png": "[encoded data removed]",
      "text/plain": [
       "<Figure size 720x432 with 1 Axes>"
      ]
     },
     "metadata": {
      "needs_background": "light"
     },
     "output_type": "display_data"
    }
   ],
   "source": [
    "# ---------- VISUALIZE RESULTS ---------- #\n",
    "\n",
    "# Convert arrays into DataFrame\n",
    "Marko = pd.DataFrame({'Return' : portRET, 'Volatility' : portVOL})\n",
    "\n",
    "# Create plot\n",
    "Marko.plot(x = 'Volatility', y = 'Return', kind = 'scatter', figsize = (10, 6));\n",
    "plt.xlabel('Expected Volatility')\n",
    "plt.ylabel('Expected Return')\n",
    "plt.show()\n"
   ]
  },
  {
   "cell_type": "markdown",
   "metadata": {},
   "source": [
    "Wow, that's really beautiful. This concludes the end of the Udemy lecture but I will return to complete a more complex evaluation of larger portfolios.\n",
    "\n",
    "**AREAS FOR FURTHER DEVELOPMENT:**\n",
    "* **Investigate Portfolios as $n \\rightarrow \\infty$**\n",
    "  * Add more securities to the portfolio combinations.\n",
    "  * Do the portfolios fall away from the frontier?\n",
    "* **Add Sharpe Ratio Coloring**\n",
    "  * Add color-coding for the Sharpe ratios of the hypothetical portfolios, as in the figure above.\n",
    "  * Comment on Sharpe phenomenon along the frontier.\n",
    "* **Add Index Functionality**\n",
    "  * For a given volatility or a given expected return, return the efficient portfolio weights.\n",
    "* **Compartmentalize into Functions**\n",
    "  * Turn the code above into a suite of functions to make this analysis less arduous."
   ]
  },
  {
   "cell_type": "markdown",
   "metadata": {},
   "source": [
    "*Notes prepared by Austin Dial on 2/26/2019, rev. 3/19*"
   ]
  }
 ],
 "metadata": {
  "kernelspec": {
   "display_name": "Python 3",
   "language": "python",
   "name": "python3"
  },
  "language_info": {
   "codemirror_mode": {
    "name": "ipython",
    "version": 3
   },
   "file_extension": ".py",
   "mimetype": "text/x-python",
   "name": "python",
   "nbconvert_exporter": "python",
   "pygments_lexer": "ipython3",
   "version": "3.8.5"
  },
  "toc-autonumbering": false,
  "toc-showcode": false,
  "toc-showtags": false
 },
 "nbformat": 4,
 "nbformat_minor": 4
}
